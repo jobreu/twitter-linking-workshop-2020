{
 "cells": [
  {
   "cell_type": "markdown",
   "metadata": {},
   "source": [
    "# twint"
   ]
  },
  {
   "cell_type": "markdown",
   "metadata": {},
   "source": [
    "\"[Twint](https://github.com/twintproject/twint) is an advanced Twitter scraping tool written in Python that allows for scraping Tweets from Twitter profiles without using Twitter's API.\" ([twint Wiki](https://github.com/twintproject/twint/wiki))."
   ]
  },
  {
   "cell_type": "markdown",
   "metadata": {},
   "source": [
    "`twint` can be used via [Bash](https://en.wikipedia.org/wiki/Bash_(Unix_shell))."
   ]
  },
  {
   "cell_type": "markdown",
   "metadata": {},
   "source": [
    "**NB**: The `Bash` commands only work on Unix-based operating systems (MacOS or Linux). If you want to use `twint` locally on Windows machines, you can either do so via `Python` (which you need anyway to install the library) or you can set up a virtual machine with Linux as OS."
   ]
  },
  {
   "cell_type": "markdown",
   "metadata": {},
   "source": [
    "## Examples"
   ]
  },
  {
   "cell_type": "markdown",
   "metadata": {},
   "source": [
    "Scrape tweets from the *GESIS* Twitter account that were posted after March 1st, 2020 and save the results to a `CSV` file."
   ]
  },
  {
   "cell_type": "code",
   "execution_count": null,
   "metadata": {},
   "outputs": [],
   "source": [
    "twint -u gesis_org --since 2020-03-01 -o data/twint_gesis_tweets.csv --csv"
   ]
  },
  {
   "cell_type": "markdown",
   "metadata": {},
   "source": [
    "Collect a list of all accounts @gesis_org follows and save the result as a `CSV` file (in the `data` folder)."
   ]
  },
  {
   "cell_type": "code",
   "execution_count": null,
   "metadata": {},
   "outputs": [],
   "source": [
    "twint -u gesis_org --following -o data/twint_gesis_following.csv --csv"
   ]
  },
  {
   "cell_type": "markdown",
   "metadata": {},
   "source": [
    "Get (up to 3200) tweets \"favorited\" by the *GESIS* Twitter account and save the result as a `CSV` file."
   ]
  },
  {
   "cell_type": "code",
   "execution_count": null,
   "metadata": {},
   "outputs": [],
   "source": [
    "twint -u gesis_org --favorites -o data/twint_gesis_favs.csv --csv"
   ]
  },
  {
   "cell_type": "markdown",
   "metadata": {},
   "source": [
    "If you want to, you can have a look at the resulting data in the [twint_gesis_tweets.csv file](./data/twint_gesis_tweets.csv)."
   ]
  },
  {
   "cell_type": "markdown",
   "metadata": {},
   "source": [
    "`twint` offers many other functionalities that are described in detail in the [wiki](https://github.com/twintproject/twint) for this tool."
   ]
  }
 ],
 "metadata": {
  "kernelspec": {
   "display_name": "Python 3",
   "language": "python",
   "name": "python3"
  },
  "language_info": {
   "codemirror_mode": {
    "name": "ipython",
    "version": 3
   },
   "file_extension": ".py",
   "mimetype": "text/x-python",
   "name": "python",
   "nbconvert_exporter": "python",
   "pygments_lexer": "ipython3",
   "version": "3.7.3"
  }
 },
 "nbformat": 4,
 "nbformat_minor": 4
}
