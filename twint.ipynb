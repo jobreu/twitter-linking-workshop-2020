{
 "cells": [
  {
   "cell_type": "markdown",
   "metadata": {},
   "source": [
    "# twint"
   ]
  },
  {
   "cell_type": "markdown",
   "metadata": {},
   "source": [
    "\"[Twint](https://github.com/twintproject/twint) is an advanced Twitter scraping tool written in Python that allows for scraping Tweets from Twitter profiles without using Twitter's API.\" ([twint Wiki](https://github.com/twintproject/twint/wiki))."
   ]
  },
  {
   "cell_type": "markdown",
   "metadata": {},
   "source": [
    "`twint` can be used via [Bash](https://en.wikipedia.org/wiki/Bash_(Unix_shell))."
   ]
  },
  {
   "cell_type": "markdown",
   "metadata": {},
   "source": [
    "**NB**: The `Bash` commands only work on Unix-based operating systems (MacOS or Linux). If you want to use `twint` on Windows machines, you can either do so via `Python` (which you need anyway to install the library) or you need to set up a virtual machine with Linux as OS."
   ]
  },
  {
   "cell_type": "markdown",
   "metadata": {},
   "source": [
    "Scrape tweets from a user's timeline and save to a `CSV` file."
   ]
  },
  {
   "cell_type": "code",
   "execution_count": null,
   "metadata": {},
   "outputs": [],
   "source": [
    "twint -u \"gesis_org\" -o \"data/twint_gesis.csv\" --csv"
   ]
  }
 ],
 "metadata": {
  "kernelspec": {
   "display_name": "Python 3",
   "language": "python",
   "name": "python3"
  },
  "language_info": {
   "codemirror_mode": {
    "name": "ipython",
    "version": 3
   },
   "file_extension": ".py",
   "mimetype": "text/x-python",
   "name": "python",
   "nbconvert_exporter": "python",
   "pygments_lexer": "ipython3",
   "version": "3.7.3"
  }
 },
 "nbformat": 4,
 "nbformat_minor": 4
}
