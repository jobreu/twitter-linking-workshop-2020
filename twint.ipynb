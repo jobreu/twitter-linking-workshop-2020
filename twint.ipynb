{
 "cells": [
  {
   "cell_type": "markdown",
   "metadata": {},
   "source": [
    "# twint"
   ]
  },
  {
   "cell_type": "markdown",
   "metadata": {},
   "source": [
    "\"[Twint](https://github.com/twintproject/twint) is an advanced Twitter scraping tool written in Python that allows for scraping Tweets from Twitter profiles without using Twitter's API.\" ([twint Wiki](https://github.com/twintproject/twint/wiki))."
   ]
  },
  {
   "cell_type": "markdown",
   "metadata": {},
   "source": [
    "`twint` can be used via [Bash](https://en.wikipedia.org/wiki/Bash_(Unix_shell))."
   ]
  },
  {
   "cell_type": "markdown",
   "metadata": {},
   "source": [
    "**NB**: The `Bash` commands only work on Unix-based operating systems (MacOS or Linux). If you want to use `twint` locally on Windows machines, you can either do so via `Python` (which you need anyway to install the library) or you can set up a virtual machine with Linux as OS."
   ]
  },
  {
   "cell_type": "markdown",
   "metadata": {},
   "source": [
    "## Examples"
   ]
  },
  {
   "cell_type": "markdown",
   "metadata": {},
   "source": [
    "Scrape tweets from the *GESIS* Twitter account that have been posted since March 1st, 2020 and save the results to a `CSV` file."
   ]
  },
  {
   "cell_type": "code",
   "execution_count": null,
   "metadata": {},
   "outputs": [],
   "source": [
    "twint -u gesis_org --since \"2020-03-01 00:00:00\" -o data/twint_gesis_tweets.csv --csv"
   ]
  },
  {
   "cell_type": "markdown",
   "metadata": {},
   "source": [
    "If you want to, you can have a look at the resulting data in the [twint_gesis_tweets.csv file](./data/twint_gesis_tweets.csv)."
   ]
  },
  {
   "cell_type": "markdown",
   "metadata": {},
   "source": [
    "Collect a list of all accounts @gesis_org follows and save the result as a `CSV` file (in the `data` folder). Running this cell may take a few minutes. In case you receive an error message when the cell below starts running, simply execute it again."
   ]
  },
  {
   "cell_type": "code",
   "execution_count": null,
   "metadata": {},
   "outputs": [],
   "source": [
    "twint -u gesis_org --following -o data/twint_gesis_following.csv --csv"
   ]
  },
  {
   "cell_type": "markdown",
   "metadata": {},
   "source": [
    "Get (up to 3200) tweets \"favorited\" by the *GESIS* Twitter account and save the result as a `CSV` file. **NB**: Running the cell below takes a while (you can see that a cell is running if an asterisk * is displayed in the square brackets next to it). If you want to stop the collection, you need to interrupt the `Kernel` of the notebook. You can do so by either pressing the square stop symbol in the notebook menu abov or by pressing the i-key on your keyboard twice. In case you receive an error message when the cell below starts running, simply execute it again."
   ]
  },
  {
   "cell_type": "code",
   "execution_count": null,
   "metadata": {},
   "outputs": [],
   "source": [
    "twint -u gesis_org --favorites -o data/twint_gesis_favs.csv --csv"
   ]
  },
  {
   "cell_type": "markdown",
   "metadata": {},
   "source": [
    "`twint` offers many other functionalities that are described in detail in the [wiki](https://github.com/twintproject/twint) for this tool."
   ]
  }
 ],
 "metadata": {
  "kernelspec": {
   "display_name": "Bash",
   "language": "bash",
   "name": "bash"
  },
  "language_info": {
   "codemirror_mode": "shell",
   "file_extension": ".sh",
   "mimetype": "text/x-sh",
   "name": "bash"
  }
 },
 "nbformat": 4,
 "nbformat_minor": 4
}
