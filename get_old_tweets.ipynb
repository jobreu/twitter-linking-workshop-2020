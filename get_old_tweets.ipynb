{
 "cells": [
  {
   "cell_type": "markdown",
   "metadata": {},
   "source": [
    "# Get Old Tweets"
   ]
  },
  {
   "cell_type": "markdown",
   "metadata": {},
   "source": [
    "[GetOldTweets3](https://pypi.org/project/GetOldTweets3/) is a `Python` library that can be used via [Bash](https://en.wikipedia.org/wiki/Bash_(Unix_shell)). It allows the collection of Tweets without needing an API Key."
   ]
  },
  {
   "cell_type": "markdown",
   "metadata": {},
   "source": [
    "**NB**: The `Bash` commands only work on Unix-based operating systems (MacOS or Linux). If you want to use `GetOldTweets3` locally on Windows machines, you can either do so via `Python` (which you need anyway to install the library) or you can set up a virtual machine with Linux as OS."
   ]
  },
  {
   "cell_type": "markdown",
   "metadata": {},
   "source": [
    "## Examples"
   ]
  },
  {
   "cell_type": "markdown",
   "metadata": {},
   "source": [
    "Scrape (up to) 100 tweets from the timeline of the *GESIS* Twitter account and save the results to a `CSV` file (in the `data` folder)."
   ]
  },
  {
   "cell_type": "code",
   "execution_count": null,
   "metadata": {},
   "outputs": [],
   "source": [
    "GetOldTweets3 --username \"gesis_org\" --maxtweets 100 --output \"data/got_gesis_tweets.csv\""
   ]
  },
  {
   "cell_type": "markdown",
   "metadata": {},
   "source": [
    "Get tweets from a list of users contained in the file `accounts.txt` (in the `data` folder) for a specific period of time (NB: until date is not included)."
   ]
  },
  {
   "cell_type": "code",
   "execution_count": null,
   "metadata": {},
   "outputs": [],
   "source": [
    "GetOldTweets3 --usernames-from-file \"data/accounts.txt\" --since 2020-03-01 --until 2020-05-01 --output \"data/got_tweets.csv\""
   ]
  },
  {
   "cell_type": "markdown",
   "metadata": {},
   "source": [
    "If you want to, you can check out the results in the [got_tweets.csv file](./data/got_tweets.csv)."
   ]
  },
  {
   "cell_type": "markdown",
   "metadata": {},
   "source": [
    "Collect 10 tweets that match the search query \"covid-19\"."
   ]
  },
  {
   "cell_type": "code",
   "execution_count": null,
   "metadata": {},
   "outputs": [],
   "source": [
    "GetOldTweets3 --querysearch \"covid-19\" --maxtweets 10"
   ]
  },
  {
   "cell_type": "markdown",
   "metadata": {},
   "source": [
    "You can get more information on the options offered by `GetOldTweets3` by running command in the cell below."
   ]
  },
  {
   "cell_type": "code",
   "execution_count": null,
   "metadata": {},
   "outputs": [],
   "source": [
    "GetOldTweets3 -h"
   ]
  }
 ],
 "metadata": {
  "kernelspec": {
   "display_name": "Python 3",
   "language": "python",
   "name": "python3"
  },
  "language_info": {
   "codemirror_mode": {
    "name": "ipython",
    "version": 3
   },
   "file_extension": ".py",
   "mimetype": "text/x-python",
   "name": "python",
   "nbconvert_exporter": "python",
   "pygments_lexer": "ipython3",
   "version": "3.7.3"
  }
 },
 "nbformat": 4,
 "nbformat_minor": 4
}
